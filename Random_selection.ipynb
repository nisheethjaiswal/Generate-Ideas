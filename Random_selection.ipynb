{
 "cells": [
  {
   "cell_type": "code",
   "execution_count": 3,
   "id": "62421842",
   "metadata": {},
   "outputs": [],
   "source": [
    "import pandas as pd\n",
    "import random"
   ]
  },
  {
   "cell_type": "code",
   "execution_count": 4,
   "id": "cc141c6d",
   "metadata": {},
   "outputs": [],
   "source": [
    "trends_list = pd.read_excel(\"Innovation gen.xlsx\", sheet_name='Trends', header=None)\n",
    "\n",
    "sayings_list = pd.read_excel(\"Innovation gen.xlsx\", sheet_name='Sayings', header=None)\n",
    "\n",
    "skills_interests_list = pd.read_excel(\"Innovation gen.xlsx\", sheet_name='Skills&Interests', header=None, )\n",
    "\n",
    "#trends_list\n",
    "#skills_interests_list.info()"
   ]
  },
  {
   "cell_type": "code",
   "execution_count": 9,
   "id": "2529460f",
   "metadata": {},
   "outputs": [
    {
     "name": "stdout",
     "output_type": "stream",
     "text": [
      "                         0\n",
      "2  Mental Health Awareness                      0\n",
      "40  Might makes right.                             0\n",
      "12  DIY Projects and Crafting\n"
     ]
    }
   ],
   "source": [
    "rand_trend = str(trends_list.sample(1))\n",
    "rand_saying = sayings_list.sample(1)\n",
    "rand_skill = skills_interests_list.sample(1)\n",
    "\n",
    "print(rand_trend, rand_saying, rand_skill)"
   ]
  },
  {
   "cell_type": "code",
   "execution_count": 10,
   "id": "53b5edd3",
   "metadata": {},
   "outputs": [
    {
     "data": {
      "text/plain": [
       "'                         0\\n2  Mental Health Awareness'"
      ]
     },
     "execution_count": 10,
     "metadata": {},
     "output_type": "execute_result"
    }
   ],
   "source": [
    "rand_trend"
   ]
  },
  {
   "cell_type": "code",
   "execution_count": null,
   "id": "c38cebc5",
   "metadata": {},
   "outputs": [],
   "source": []
  }
 ],
 "metadata": {
  "kernelspec": {
   "display_name": "Python 3 (ipykernel)",
   "language": "python",
   "name": "python3"
  },
  "language_info": {
   "codemirror_mode": {
    "name": "ipython",
    "version": 3
   },
   "file_extension": ".py",
   "mimetype": "text/x-python",
   "name": "python",
   "nbconvert_exporter": "python",
   "pygments_lexer": "ipython3",
   "version": "3.10.9"
  }
 },
 "nbformat": 4,
 "nbformat_minor": 5
}
